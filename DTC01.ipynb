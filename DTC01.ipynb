{
 "cells": [
  {
   "cell_type": "markdown",
   "id": "d23274fd",
   "metadata": {},
   "source": [
    "# Principle of Digital Communication Laboratory\n",
    "by Metee Yingyongwatthanakit 633040174-2\n",
    "\n",
    "## 1 | Objectives\n",
    "1. Learn application of sagemath python for symbolic calculation\n",
    "2. Solve problems using calculus and linear algebra\n",
    "\n",
    "## 2 | Experimental Equiments\n",
    "1. Laptop Macbook Air M1, 8-core CPU with 4 performance cores and 4 efficiency cores 7-core GPU 16-core Neural Engine, 8 GB of RAM, 494.28 GB of SSD\n",
    "2. MacOS Ventura 13.0 \n",
    "3. Sagemath 9.7 for MacOS\n",
    "4. Jyputer notebook using Python 3.10.6 for interactive over web\n",
    "\n",
    "## Definition\n",
    "a) If a, n is positive integer then a mod n means leftover by a divide by n   \n",
    "b) Code of $x_0$ is last two digit exclude - e.g. Student ID 633040462-4 gets $x_0 = 24$   \n",
    "c) Let $g = 3, γ = g^{x_0} mod 7$ and $β = g^{x_0 +2}$    \n",
    "\n",
    "## Assignments\n",
    "\n",
    "### Problem 1\n",
    "Write a program to enter function $f(x) = \\frac{x^2 - x + 7}{x - γ}$ using 2 different methods"
   ]
  },
  {
   "cell_type": "code",
   "execution_count": 13,
   "id": "40733e6f",
   "metadata": {},
   "outputs": [
    {
     "data": {
      "text/plain": [
       "1"
      ]
     },
     "execution_count": 13,
     "metadata": {},
     "output_type": "execute_result"
    }
   ],
   "source": [
    "x0 = 6330401742 % 100 # 42\n",
    "g = 3\n",
    "γ = power_mod(g, x0, 7)\n",
    "γ"
   ]
  },
  {
   "cell_type": "code",
   "execution_count": 14,
   "id": "3ba20957",
   "metadata": {},
   "outputs": [
    {
     "data": {
      "text/plain": [
       "97/9"
      ]
     },
     "execution_count": 14,
     "metadata": {},
     "output_type": "execute_result"
    }
   ],
   "source": [
    "f(x) = (x^2 - x + 7) / (x - γ)\n",
    "f(10)"
   ]
  },
  {
   "cell_type": "code",
   "execution_count": 15,
   "id": "16940d45",
   "metadata": {},
   "outputs": [
    {
     "data": {
      "text/plain": [
       "97/9"
      ]
     },
     "execution_count": 15,
     "metadata": {},
     "output_type": "execute_result"
    }
   ],
   "source": [
    "f2 = lambda x: (x^2 - x + 7) / (x - γ)\n",
    "f2(10)"
   ]
  },
  {
   "cell_type": "code",
   "execution_count": 26,
   "id": "dae82f6c",
   "metadata": {},
   "outputs": [
    {
     "data": {
      "text/html": [
       "<html>\\(\\displaystyle x \\ {\\mapsto}\\ \\frac{\\cos\\left(x\\right)}{2 \\, x^{2} + 1}\\)</html>"
      ],
      "text/latex": [
       "$\\displaystyle x \\ {\\mapsto}\\ \\frac{\\cos\\left(x\\right)}{2 \\, x^{2} + 1}$"
      ],
      "text/plain": [
       "x |--> cos(x)/(2*x^2 + 1)"
      ]
     },
     "metadata": {},
     "output_type": "display_data"
    }
   ],
   "source": [
    "show(f)"
   ]
  },
  {
   "cell_type": "code",
   "execution_count": 17,
   "id": "87ffd94b",
   "metadata": {},
   "outputs": [
    {
     "data": {
      "text/plain": [
       "<class 'sage.symbolic.expression.Expression'>"
      ]
     },
     "execution_count": 17,
     "metadata": {},
     "output_type": "execute_result"
    }
   ],
   "source": [
    "type(f)"
   ]
  },
  {
   "cell_type": "code",
   "execution_count": 27,
   "id": "4fa0849c",
   "metadata": {},
   "outputs": [
    {
     "data": {
      "text/html": [
       "<html>\\(\\displaystyle \\verb|&lt;function|\\verb| |\\verb|&lt;lambda>|\\verb| |\\verb|at|\\verb| |\\verb|0x1177765f0>|\\)</html>"
      ],
      "text/latex": [
       "$\\displaystyle \\verb|<function|\\verb| |\\verb|<lambda>|\\verb| |\\verb|at|\\verb| |\\verb|0x1177765f0>|$"
      ],
      "text/plain": [
       "<function <lambda> at 0x1177765f0>"
      ]
     },
     "metadata": {},
     "output_type": "display_data"
    }
   ],
   "source": [
    "show(f2)"
   ]
  },
  {
   "cell_type": "markdown",
   "id": "54877d27",
   "metadata": {},
   "source": [
    "### Problem 2\n",
    "Write a program to enter a function\n",
    "$$\n",
    "f(x) = \\left\\{\n",
    "    \\begin{array}{ll}\n",
    "        γx^2 \\text{ if }  x \\leq 0 \\\\\n",
    "        0 \\text{ otherwise} \n",
    "    \\end{array}\n",
    "\\right.\n",
    "$$"
   ]
  },
  {
   "cell_type": "code",
   "execution_count": 19,
   "id": "cf9a920f",
   "metadata": {},
   "outputs": [
    {
     "data": {
      "text/plain": [
       "0"
      ]
     },
     "execution_count": 19,
     "metadata": {},
     "output_type": "execute_result"
    }
   ],
   "source": [
    "f = lambda x: γ*x^2 if x <= 0 else 0\n",
    "f(2)"
   ]
  },
  {
   "cell_type": "code",
   "execution_count": 20,
   "id": "41ababa1",
   "metadata": {},
   "outputs": [
    {
     "data": {
      "text/plain": [
       "4"
      ]
     },
     "execution_count": 20,
     "metadata": {},
     "output_type": "execute_result"
    }
   ],
   "source": [
    "f(-2)"
   ]
  },
  {
   "cell_type": "code",
   "execution_count": 29,
   "id": "54d93902",
   "metadata": {},
   "outputs": [
    {
     "data": {
      "image/png": "[encoded data removed]",
      "text/plain": [
       "Graphics object consisting of 1 graphics primitive"
      ]
     },
     "metadata": {},
     "output_type": "display_data"
    }
   ],
   "source": [
    "x = var('x')\n",
    "show(plot(f, -10, 10, figsize=(3,4)))"
   ]
  },
  {
   "cell_type": "markdown",
   "id": "1cf1df5b",
   "metadata": {},
   "source": [
    "### Problem 3\n",
    "Write a interactive sagemath cell to calculate\n",
    "$$ g(x) = f'(x) $$\n",
    "when\n",
    "$$ f(x) = \\sqrt{1 + \\sqrt{x + γ}} $$"
   ]
  },
  {
   "cell_type": "code",
   "execution_count": 22,
   "id": "3cfc5909",
   "metadata": {},
   "outputs": [
    {
     "data": {
      "application/vnd.jupyter.widget-view+json": {
       "model_id": "81339a602ece4357963bea6e25964d8e",
       "version_major": 2,
       "version_minor": 0
      },
      "text/plain": [
       "Interactive function <function _ at 0x117775cf0> with 1 widget\n",
       "  a: EvalText(value='5', description='a', layou…"
      ]
     },
     "metadata": {},
     "output_type": "display_data"
    }
   ],
   "source": [
    "x = var('x')\n",
    "f(x) = sqrt(1 + sqrt(x + γ))\n",
    "g(x) = diff(f, x)\n",
    "@interact\n",
    "def _(a=input_box(5)):\n",
    "    print(f'g({a}) = f\\'({a}) = {g(a)} = {float(g(a)):.4f}')"
   ]
  },
  {
   "cell_type": "markdown",
   "id": "c159fcbf",
   "metadata": {},
   "source": [
    "### Problem 4\n",
    "Write a interactive sagemath cell with sliding value $a$ to plot function $f(x)$ and $g(x) = f(x-a)$ within same graph and let   \n",
    "$$ f(x) = \\frac{\\cos(x) / γ}{2x^2 + 1} $$\n",
    "$a$ is integer in $[-3, 3]$"
   ]
  },
  {
   "cell_type": "code",
   "execution_count": 31,
   "id": "bd291b11",
   "metadata": {},
   "outputs": [
    {
     "data": {
      "text/html": [
       "<html>\\(\\displaystyle \\frac{\\cos\\left(x\\right)}{2 \\, x^{2} + 1}\\)</html>"
      ],
      "text/latex": [
       "$\\displaystyle \\frac{\\cos\\left(x\\right)}{2 \\, x^{2} + 1}$"
      ],
      "text/plain": [
       "cos(x)/(2*x^2 + 1)"
      ]
     },
     "metadata": {},
     "output_type": "display_data"
    },
    {
     "data": {
      "application/vnd.jupyter.widget-view+json": {
       "model_id": "e53b08cf9278470eb6975e00807fa049",
       "version_major": 2,
       "version_minor": 0
      },
      "text/plain": [
       "Interactive function <function _ at 0x11ad37880> with 1 widget\n",
       "  a: IntSlider(value=0, description='a', max=3,…"
      ]
     },
     "metadata": {},
     "output_type": "display_data"
    }
   ],
   "source": [
    "x = var('x')\n",
    "f(x) = (cos(x) / γ) / (2*x^2 + 1)\n",
    "show(f(x))\n",
    "@interact\n",
    "def _(a=(0, (-3,3))):\n",
    "    P1 = plot(f, -8, 8, color=\"red\", figsize=(5,2))\n",
    "    g(x) = f(x-a)\n",
    "    P2 = plot(g, -8, 8, color=\"blue\", figsize=(5,2)) # g(x) = f(x-a)\n",
    "    show(P1 + P2)"
   ]
  }
 ],
 "metadata": {
  "kernelspec": {
   "display_name": "SageMath 9.7",
   "language": "sage",
   "name": "sagemath-9.7"
  },
  "language_info": {
   "codemirror_mode": {
    "name": "ipython",
    "version": 3
   },
   "file_extension": ".py",
   "mimetype": "text/x-python",
   "name": "python",
   "nbconvert_exporter": "python",
   "pygments_lexer": "ipython3",
   "version": "3.10.5"
  }
 },
 "nbformat": 4,
 "nbformat_minor": 5
}
