{
 "cells": [
  {
   "cell_type": "code",
   "execution_count": 1,
   "id": "40733e6f",
   "metadata": {},
   "outputs": [
    {
     "data": {
      "text/plain": [
       "1"
      ]
     },
     "execution_count": 1,
     "metadata": {},
     "output_type": "execute_result"
    }
   ],
   "source": [
    "x0 = 42\n",
    "g = 3\n",
    "γ = power_mod(g, x0, 7)\n",
    "γ"
   ]
  },
  {
   "cell_type": "code",
   "execution_count": 2,
   "id": "3ba20957",
   "metadata": {},
   "outputs": [
    {
     "data": {
      "text/plain": [
       "97/9"
      ]
     },
     "execution_count": 2,
     "metadata": {},
     "output_type": "execute_result"
    }
   ],
   "source": [
    "f(x) = (x^2 - x + 7) / (x - γ)\n",
    "f(10)"
   ]
  },
  {
   "cell_type": "code",
   "execution_count": 3,
   "id": "16940d45",
   "metadata": {},
   "outputs": [
    {
     "data": {
      "text/plain": [
       "97/9"
      ]
     },
     "execution_count": 3,
     "metadata": {},
     "output_type": "execute_result"
    }
   ],
   "source": [
    "def f2(x: float) -> float:\n",
    "    global γ\n",
    "    return (x^2 - x + 7) / (x - γ)\n",
    "f2(10)"
   ]
  },
  {
   "cell_type": "code",
   "execution_count": 4,
   "id": "dae82f6c",
   "metadata": {},
   "outputs": [
    {
     "data": {
      "text/plain": [
       "x |--> (x^2 - x + 7)/(x - 1)"
      ]
     },
     "execution_count": 4,
     "metadata": {},
     "output_type": "execute_result"
    }
   ],
   "source": [
    "f"
   ]
  },
  {
   "cell_type": "code",
   "execution_count": 5,
   "id": "87ffd94b",
   "metadata": {},
   "outputs": [
    {
     "data": {
      "text/plain": [
       "<class 'sage.symbolic.expression.Expression'>"
      ]
     },
     "execution_count": 5,
     "metadata": {},
     "output_type": "execute_result"
    }
   ],
   "source": [
    "type(f)"
   ]
  },
  {
   "cell_type": "code",
   "execution_count": 6,
   "id": "4fa0849c",
   "metadata": {},
   "outputs": [
    {
     "data": {
      "text/plain": [
       "<function f2 at 0x13e771870>"
      ]
     },
     "execution_count": 6,
     "metadata": {},
     "output_type": "execute_result"
    }
   ],
   "source": [
    "f2"
   ]
  },
  {
   "cell_type": "code",
   "execution_count": 7,
   "id": "cf9a920f",
   "metadata": {},
   "outputs": [
    {
     "data": {
      "text/plain": [
       "0"
      ]
     },
     "execution_count": 7,
     "metadata": {},
     "output_type": "execute_result"
    }
   ],
   "source": [
    "# Problem 2\n",
    "f = lambda x: γ*x^2 if x <= 0 else 0\n",
    "f(2)"
   ]
  },
  {
   "cell_type": "code",
   "execution_count": 8,
   "id": "41ababa1",
   "metadata": {},
   "outputs": [
    {
     "data": {
      "text/plain": [
       "4"
      ]
     },
     "execution_count": 8,
     "metadata": {},
     "output_type": "execute_result"
    }
   ],
   "source": [
    "f(-2)"
   ]
  },
  {
   "cell_type": "code",
   "execution_count": 9,
   "id": "54d93902",
   "metadata": {},
   "outputs": [
    {
     "data": {
      "image/png": "[encoded data removed]",
      "text/plain": [
       "Graphics object consisting of 1 graphics primitive"
      ]
     },
     "metadata": {},
     "output_type": "display_data"
    }
   ],
   "source": [
    "x = var('x')\n",
    "show(plot(f, -10, 10, figsize=(3,4)))"
   ]
  },
  {
   "cell_type": "code",
   "execution_count": 10,
   "id": "3cfc5909",
   "metadata": {},
   "outputs": [
    {
     "data": {
      "text/plain": [
       "x |--> 1/4/(sqrt(x + 1)*sqrt(sqrt(x + 1) + 1))"
      ]
     },
     "execution_count": 10,
     "metadata": {},
     "output_type": "execute_result"
    }
   ],
   "source": [
    "x = var('x')\n",
    "f(x) = sqrt(1 + sqrt(x + γ))\n",
    "g(x) = diff(f, x)\n",
    "g"
   ]
  },
  {
   "cell_type": "code",
   "execution_count": 11,
   "id": "94e17bdc",
   "metadata": {},
   "outputs": [
    {
     "name": "stdout",
     "output_type": "stream",
     "text": [
      "1/40*sqrt(10)/sqrt(sqrt(10) + 1) = 0.038750247850178506\n"
     ]
    }
   ],
   "source": [
    "print(f'{g(9)} = {float(g(9))}')"
   ]
  },
  {
   "cell_type": "code",
   "execution_count": 12,
   "id": "bd291b11",
   "metadata": {},
   "outputs": [
    {
     "data": {
      "application/vnd.jupyter.widget-view+json": {
       "model_id": "6f39f6fae90c4f16bafa222eeff9eff6",
       "version_major": 2,
       "version_minor": 0
      },
      "text/plain": [
       "Interactive function <function _ at 0x13e72f640> with 1 widget\n",
       "  a: IntSlider(value=0, description='a', max=3,…"
      ]
     },
     "metadata": {},
     "output_type": "display_data"
    }
   ],
   "source": [
    "x = var('x')\n",
    "f(x) = (cos(x) / γ) / (2*x^2 + 1)\n",
    "@interact\n",
    "def _(a=(0, (-3,3))):\n",
    "    P1 = plot(f(x), -8, 8, color=\"red\", figsize=(5,2))\n",
    "    g(x) = f(x-a)\n",
    "    P2 = plot(g(x), -8, 8, color=\"blue\", figsize=(5,2)) # g(x) = f(x-a)\n",
    "    show(P1 + P2)"
   ]
  }
 ],
 "metadata": {
  "kernelspec": {
   "display_name": "SageMath 9.7",
   "language": "sage",
   "name": "SageMath-9.7"
  },
  "language_info": {
   "codemirror_mode": {
    "name": "ipython",
    "version": 3
   },
   "file_extension": ".py",
   "mimetype": "text/x-python",
   "name": "python",
   "nbconvert_exporter": "python",
   "pygments_lexer": "ipython3",
   "version": "3.10.5"
  }
 },
 "nbformat": 4,
 "nbformat_minor": 5
}
