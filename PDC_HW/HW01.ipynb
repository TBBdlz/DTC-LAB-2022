{
 "cells": [
  {
   "cell_type": "code",
   "execution_count": 1,
   "id": "ecf5ae48",
   "metadata": {},
   "outputs": [
    {
     "data": {
      "text/plain": [
       "(42, <class 'sage.rings.integer.Integer'>)"
      ]
     },
     "execution_count": 1,
     "metadata": {},
     "output_type": "execute_result"
    }
   ],
   "source": [
    "STUDENT_ID = 6330401742\n",
    "x0: int = STUDENT_ID % 100\n",
    "x0, type(x0)"
   ]
  },
  {
   "cell_type": "code",
   "execution_count": 2,
   "id": "83bd079d",
   "metadata": {},
   "outputs": [
    {
     "data": {
      "text/plain": [
       "42"
      ]
     },
     "execution_count": 2,
     "metadata": {},
     "output_type": "execute_result"
    }
   ],
   "source": [
    "x1 = x0 if x0 != 0 else 55\n",
    "x1"
   ]
  },
  {
   "cell_type": "code",
   "execution_count": 3,
   "id": "f016d27f",
   "metadata": {},
   "outputs": [
    {
     "data": {
      "text/html": [
       "<html>\\(\\displaystyle \\cos\\left(42\\right) + 1.50000000000000\\)</html>"
      ],
      "text/latex": [
       "$\\displaystyle \\cos\\left(42\\right) + 1.50000000000000$"
      ],
      "text/plain": [
       "cos(42) + 1.50000000000000"
      ]
     },
     "metadata": {},
     "output_type": "display_data"
    }
   ],
   "source": [
    "x_r = 1.5 + cos(x1)\n",
    "show(x_r)"
   ]
  },
  {
   "cell_type": "code",
   "execution_count": 4,
   "id": "9ca5a52c",
   "metadata": {},
   "outputs": [
    {
     "data": {
      "text/plain": [
       "1.100014685011648706045292662822797971619577120857580939383255339848657557416441220561145080863137812"
      ]
     },
     "execution_count": 4,
     "metadata": {},
     "output_type": "execute_result"
    }
   ],
   "source": [
    "N(x_r, digits=100)"
   ]
  },
  {
   "cell_type": "markdown",
   "id": "a9f43f4c",
   "metadata": {},
   "source": [
    "# Problem 1"
   ]
  },
  {
   "cell_type": "code",
   "execution_count": 9,
   "id": "c9fd4656",
   "metadata": {},
   "outputs": [
    {
     "data": {
      "image/png": "[encoded data removed]",
      "text/plain": [
       "Graphics object consisting of 1 graphics primitive"
      ]
     },
     "execution_count": 9,
     "metadata": {},
     "output_type": "execute_result"
    }
   ],
   "source": [
    "T0 = x_r\n",
    "y(t) = t / x_r\n",
    "plot(y, label=\"y(t) = t / (1.5 + x_r)\")"
   ]
  },
  {
   "cell_type": "code",
   "execution_count": 10,
   "id": "658129b6",
   "metadata": {},
   "outputs": [
    {
     "data": {
      "text/html": [
       "<html>\\(\\displaystyle \\frac{t e^{\\left(-2 i \\, \\pi f n t\\right)}}{{\\left(\\cos\\left(42\\right) + 1.50000000000000\\right)}^{2}}\\)</html>"
      ],
      "text/latex": [
       "$\\displaystyle \\frac{t e^{\\left(-2 i \\, \\pi f n t\\right)}}{{\\left(\\cos\\left(42\\right) + 1.50000000000000\\right)}^{2}}$"
      ],
      "text/plain": [
       "t*e^(-2*I*pi*f*n*t)/(cos(42) + 1.50000000000000)^2"
      ]
     },
     "metadata": {},
     "output_type": "display_data"
    }
   ],
   "source": [
    "t, f, n = var('t f n')\n",
    "T0 = 2 * x_r\n",
    "g(t) = y(t) * exp(-2*pi*I*n*f*t) / x_r\n",
    "show(g(t))"
   ]
  },
  {
   "cell_type": "code",
   "execution_count": null,
   "id": "5f21d940",
   "metadata": {},
   "outputs": [],
   "source": []
  },
  {
   "cell_type": "code",
   "execution_count": 35,
   "id": "65fbbe3e",
   "metadata": {},
   "outputs": [
    {
     "data": {
      "text/plain": [
       "8.156480072495608"
      ]
     },
     "execution_count": 35,
     "metadata": {},
     "output_type": "execute_result"
    }
   ],
   "source": [
    "k = - 2 * pi / T0\n",
    "float(k ^ 2)"
   ]
  },
  {
   "cell_type": "code",
   "execution_count": 32,
   "id": "4485420e",
   "metadata": {},
   "outputs": [
    {
     "data": {
      "text/plain": [
       "1/2/(cos(42) + 1.50000000000000)"
      ]
     },
     "execution_count": 32,
     "metadata": {},
     "output_type": "execute_result"
    }
   ],
   "source": [
    "k = 1 / 2 / x_r\n",
    "k"
   ]
  },
  {
   "cell_type": "code",
   "execution_count": 33,
   "id": "d065f857",
   "metadata": {},
   "outputs": [
    {
     "data": {
      "text/plain": [
       "0.206606053825099"
      ]
     },
     "execution_count": 33,
     "metadata": {},
     "output_type": "execute_result"
    }
   ],
   "source": [
    "x = k ^ 2\n",
    "float(x)"
   ]
  },
  {
   "cell_type": "code",
   "execution_count": 18,
   "id": "13036dd6",
   "metadata": {},
   "outputs": [
    {
     "data": {
      "text/plain": [
       "-0.826424215300396"
      ]
     },
     "execution_count": 18,
     "metadata": {},
     "output_type": "execute_result"
    }
   ],
   "source": [
    "float((- 2 / T0 * I) ^ 2)"
   ]
  },
  {
   "cell_type": "code",
   "execution_count": 11,
   "id": "b2397a02",
   "metadata": {},
   "outputs": [
    {
     "data": {
      "text/html": [
       "<html>\\(\\displaystyle t \\ {\\mapsto}\\ \\frac{i \\, {\\left(2 \\, \\pi f n t - i\\right)} e^{\\left(-2 i \\, \\pi f n t\\right)}}{4 \\, \\pi^{2} f^{2} n^{2} {\\left(\\cos\\left(42\\right) + 1.5\\right)}^{2}}\\)</html>"
      ],
      "text/latex": [
       "$\\displaystyle t \\ {\\mapsto}\\ \\frac{i \\, {\\left(2 \\, \\pi f n t - i\\right)} e^{\\left(-2 i \\, \\pi f n t\\right)}}{4 \\, \\pi^{2} f^{2} n^{2} {\\left(\\cos\\left(42\\right) + 1.5\\right)}^{2}}$"
      ],
      "text/plain": [
       "t |--> 1/4*I*(2*pi*f*n*t - I)*e^(-2*I*pi*f*n*t)/(pi^2*f^2*n^2*(cos(42) + 1.5)^2)"
      ]
     },
     "metadata": {},
     "output_type": "display_data"
    }
   ],
   "source": [
    "show(integrate(g, t))"
   ]
  },
  {
   "cell_type": "code",
   "execution_count": 12,
   "id": "8722a013",
   "metadata": {},
   "outputs": [
    {
     "data": {
      "text/html": [
       "<html>\\(\\displaystyle -\\frac{{\\left({\\left(3.0i \\, \\pi + 2.0i \\, \\pi \\cos\\left(42\\right)\\right)} f n - 1\\right)} e^{\\left(2.0i \\, \\pi f n \\cos\\left(42\\right) + 3.0i \\, \\pi f n\\right)} + {\\left({\\left(3.0i \\, \\pi + 2.0i \\, \\pi \\cos\\left(42\\right)\\right)} f n + 1\\right)} e^{\\left(-2.0i \\, \\pi f n \\cos\\left(42\\right) - 3.0i \\, \\pi f n\\right)}}{{\\left(4 \\, \\pi^{2} \\sin\\left(42\\right)^{2} - 12 \\, \\pi^{2} \\cos\\left(42\\right) - 13 \\, \\pi^{2}\\right)} f^{2} n^{2}}\\)</html>"
      ],
      "text/latex": [
       "$\\displaystyle -\\frac{{\\left({\\left(3.0i \\, \\pi + 2.0i \\, \\pi \\cos\\left(42\\right)\\right)} f n - 1\\right)} e^{\\left(2.0i \\, \\pi f n \\cos\\left(42\\right) + 3.0i \\, \\pi f n\\right)} + {\\left({\\left(3.0i \\, \\pi + 2.0i \\, \\pi \\cos\\left(42\\right)\\right)} f n + 1\\right)} e^{\\left(-2.0i \\, \\pi f n \\cos\\left(42\\right) - 3.0i \\, \\pi f n\\right)}}{{\\left(4 \\, \\pi^{2} \\sin\\left(42\\right)^{2} - 12 \\, \\pi^{2} \\cos\\left(42\\right) - 13 \\, \\pi^{2}\\right)} f^{2} n^{2}}$"
      ],
      "text/plain": [
       "-(((3.0*I*pi + 2.0*I*pi*cos(42))*f*n - 1)*e^(2.0*I*pi*f*n*cos(42) + 3.0*I*pi*f*n) + ((3.0*I*pi + 2.0*I*pi*cos(42))*f*n + 1)*e^(-2.0*I*pi*f*n*cos(42) - 3.0*I*pi*f*n))/((4*pi^2*sin(42)^2 - 12*pi^2*cos(42) - 13*pi^2)*f^2*n^2)"
      ]
     },
     "metadata": {},
     "output_type": "display_data"
    }
   ],
   "source": [
    "x(n) = integrate(g, t, -x_r, x_r).full_simplify()\n",
    "show(x(n))"
   ]
  },
  {
   "cell_type": "code",
   "execution_count": 37,
   "id": "9bfa43a7",
   "metadata": {},
   "outputs": [
    {
     "data": {
      "text/plain": [
       "2.6000146850116486"
      ]
     },
     "execution_count": 37,
     "metadata": {},
     "output_type": "execute_result"
    }
   ],
   "source": [
    "float(1.5 + x_r)"
   ]
  },
  {
   "cell_type": "code",
   "execution_count": 41,
   "id": "7c8fcb4c",
   "metadata": {},
   "outputs": [
    {
     "data": {
      "text/plain": [
       "0.06585876936751955"
      ]
     },
     "execution_count": 41,
     "metadata": {},
     "output_type": "execute_result"
    }
   ],
   "source": [
    "float(2.6 / 4 / pi / pi)"
   ]
  },
  {
   "cell_type": "code",
   "execution_count": 42,
   "id": "81d5b7d5",
   "metadata": {},
   "outputs": [
    {
     "data": {
      "text/plain": [
       "0.1317175387350391"
      ]
     },
     "execution_count": 42,
     "metadata": {},
     "output_type": "execute_result"
    }
   ],
   "source": [
    "float(2.6 / 4 / pi / pi * 2)"
   ]
  }
 ],
 "metadata": {
  "kernelspec": {
   "display_name": "SageMath 9.7",
   "language": "sage",
   "name": "sagemath-9.7"
  },
  "language_info": {
   "codemirror_mode": {
    "name": "ipython",
    "version": 3
   },
   "file_extension": ".py",
   "mimetype": "text/x-python",
   "name": "python",
   "nbconvert_exporter": "python",
   "pygments_lexer": "ipython3",
   "version": "3.10.5"
  }
 },
 "nbformat": 4,
 "nbformat_minor": 5
}
