{
 "cells": [
  {
   "cell_type": "markdown",
   "id": "9490ebd9",
   "metadata": {},
   "source": [
    "# 4 การทดลอง\n",
    "## 4.1 อนุกรมฟูเรียร์\n",
    "ให้ x(t) เป็นสัญญาณมีคาบ นิยามด้วย\n",
    "$$ x(t) = \\sum_{n=-\\infty}^{+\\infty} \\Pi(\\frac{t-nT_0}{\\tau}), $$\n",
    "เมื่อ\n",
    "$$\n",
    "\\Pi(t) = \\left\\{\n",
    "    \\begin{array}{ll}\n",
    "        1 \\text{ ,}  |t| < \\frac{1}{2} \\\\\n",
    "        \\frac{1}{2} \\text{ ,} |t| = \\frac{1}{2} \\\\\n",
    "        0 \\text{ otherwise}\n",
    "    \\end{array}\n",
    "\\right.\n",
    "$$\n",
    "นิยามฟังก์ชันพัลซ์ในสมการ (6) ด้วยคําสั่งใน Sage ต่อไปนี้ ตามด้วย shift+enter"
   ]
  },
  {
   "cell_type": "code",
   "execution_count": 1,
   "id": "3b0c5fa9",
   "metadata": {},
   "outputs": [],
   "source": [
    "def rect(t, tau):\n",
    "    rect_u = unit_step(t + tau / 2) - unit_step(t - tau / 2)\n",
    "    return rect_u"
   ]
  },
  {
   "cell_type": "markdown",
   "id": "4416efd7",
   "metadata": {},
   "source": [
    "define function for computing Fourier series coefficient"
   ]
  },
  {
   "cell_type": "code",
   "execution_count": 2,
   "id": "b40b88e6",
   "metadata": {},
   "outputs": [],
   "source": [
    "def xn(n, T0, tau):\n",
    "    if n!=0:\n",
    "        xnv = (1 / T0 * integral(rect(t, tau) * e^(-i*n*2*pi*t/T0),t,-tau/2,tau/2)).simplify_full()\n",
    "    else:\n",
    "        xnv = tau / T0\n",
    "    return xnv"
   ]
  },
  {
   "cell_type": "code",
   "execution_count": 3,
   "id": "a52d7b49",
   "metadata": {},
   "outputs": [
    {
     "data": {
      "text/html": [
       "<html>\\(\\displaystyle \\verb|rect(t,τ)=| \\mathrm{u}\\left(t + \\frac{1}{2} \\, \\tau\\right) - \\mathrm{u}\\left(t - \\frac{1}{2} \\, \\tau\\right)\\)</html>"
      ],
      "text/latex": [
       "$\\displaystyle \\verb|rect(t,τ)=| \\mathrm{u}\\left(t + \\frac{1}{2} \\, \\tau\\right) - \\mathrm{u}\\left(t - \\frac{1}{2} \\, \\tau\\right)$"
      ],
      "text/plain": [
       "'rect(t,τ)=' unit_step(t + 1/2*tau) - unit_step(t - 1/2*tau)"
      ]
     },
     "metadata": {},
     "output_type": "display_data"
    },
    {
     "data": {
      "text/html": [
       "<html>\\(\\displaystyle \\verb|xₙ=| \\frac{\\sin\\left(\\frac{\\pi n \\tau}{T_{0}}\\right)}{\\pi n}\\)</html>"
      ],
      "text/latex": [
       "$\\displaystyle \\verb|xₙ=| \\frac{\\sin\\left(\\frac{\\pi n \\tau}{T_{0}}\\right)}{\\pi n}$"
      ],
      "text/plain": [
       "'xₙ= ' sin(pi*n*tau/T0)/(pi*n)"
      ]
     },
     "metadata": {},
     "output_type": "display_data"
    }
   ],
   "source": [
    "#----------------------------------------------------------------\n",
    "# show pulse function and Fourier series coefficients\n",
    "# i=sqrt(-1)\n",
    "#----------------------------------------------------------------\n",
    "n,T0,tau,t,nv=var(\"n,T0,tau,t,nv\")\n",
    "assume(tau>0, T0>tau/2)\n",
    "# next, show rectandular function\n",
    "show(\"rect(t,τ)=\",rect(t,tau))\n",
    "# next show Fourier Series Coefficient, xn\n",
    "show(\"xₙ= \",xn(n,T0,tau))"
   ]
  },
  {
   "cell_type": "markdown",
   "id": "dde188a3",
   "metadata": {},
   "source": [
    "## 4.2 ความสัมพันธ์ระหว่างสัญญาณและสเปกตรัม     \n",
    "มื่อ $T_0 = 6$ พิจารณาความสัมพันธ์ระหว่างสัญญาณและสเปกตรัม เมื่อเปลี่ยนแปลงความกว้างของพัลซ์ $τ$ เป็น $1, 2, 3$ ตามลําดับ"
   ]
  },
  {
   "cell_type": "code",
   "execution_count": 4,
   "id": "abc83259",
   "metadata": {},
   "outputs": [
    {
     "data": {
      "application/vnd.jupyter.widget-view+json": {
       "model_id": "ef9d469c45f445cc861a4eb65200f054",
       "version_major": 2,
       "version_minor": 0
      },
      "text/plain": [
       "Interactive function <function _ at 0x1205af130> with 1 widget\n",
       "  tau: TransformIntSlider(value=1, description=…"
      ]
     },
     "metadata": {},
     "output_type": "display_data"
    }
   ],
   "source": [
    "# Let x(t) be periodic signal as in Fig. 1\n",
    "# We will study the relation between pulse width (tau)\n",
    "# and its discrete spectrum\n",
    "T0=6\n",
    "@interact\n",
    "def _(tau=slider(1,3,step_size=1)):\n",
    "    tauv=tau\n",
    "    P=[(n,xn(n,T0,tauv)) for n in srange(-15,16)]\n",
    "    S1=plot(rect(t,tauv),-10,10,figsize=(4,3),axes_labels=([\"t\",\"x(t)\"]))\n",
    "    S2=plot(rect(t-T0,tauv),-10,10,figsize=(4,3))\n",
    "    S3=plot(rect(t+T0,tauv),-10,10,figsize=(4,3))\n",
    "    S4=text(\"···\",(-9,0.5))\n",
    "    S5=text(\"···\",(9,0.5))\n",
    "    show(S1+S2+S3+S4+S5)\n",
    "    show(points(P, rgbcolor=(0.2,0.6, 0.1), pointsize=30) \\\n",
    "    +plot(spline(P), -15, 15,figsize=(4,3),\\\n",
    "    axes_labels=([\"n\",\"xₙ\"]),linestyle=\"-.\"))"
   ]
  },
  {
   "cell_type": "markdown",
   "id": "9716fc68",
   "metadata": {},
   "source": [
    "## 4.3 ความสัมพันธ์ระหว่างกําลังของสัญญาณและทฤษฎีบทปาร์เซอวาล\n",
    "คำนวณหากําลังในสัญญาณ จากโดเมนเวลา ด้วยคําสั่งใน Sage ต่อไปนี้"
   ]
  },
  {
   "cell_type": "code",
   "execution_count": 5,
   "id": "cbf9fbb9",
   "metadata": {},
   "outputs": [
    {
     "data": {
      "application/vnd.jupyter.widget-view+json": {
       "model_id": "d84a56897d8445299226ef6a0a1d423c",
       "version_major": 2,
       "version_minor": 0
      },
      "text/plain": [
       "Interactive function <function _ at 0x127835630> with 1 widget\n",
       "  tau: TransformIntSlider(value=1, description=…"
      ]
     },
     "metadata": {},
     "output_type": "display_data"
    }
   ],
   "source": [
    "# Power Content (Compute in time domain)\n",
    "def rect(t,tau):\n",
    "    rect_u=unit_step(t+tau/2)-unit_step(t-tau/2)\n",
    "    return rect_u\n",
    "\n",
    "# define function for computing power content in time domain\n",
    "def power_time(x,tauv):\n",
    "    x_mag=abs(x)\n",
    "    Px_t=1/T0*integral(x_mag^2,t,-tauv/2,tauv/2)\n",
    "    return Px_t\n",
    "\n",
    "# main to caculate the power-content in time domain\n",
    "#n,T0,tau,t,nv,tauv=var(\"n,T0,tau,t,nv,tauv\") (previos)\n",
    "n,t,nv,tauv=var(\"n,t,nv,tauv\")\n",
    "#assume(tau>0, T0>tau/2) (previos)\n",
    "T0=6\n",
    "    \n",
    "@interact\n",
    "def _(tau=slider(1,3,step_size=1)):\n",
    "    tauv=tau\n",
    "    x(t)=rect(t,tauv)\n",
    "    Px_time=power_time(x,tauv)\n",
    "    S1=plot(rect(t,tauv),-10,10,figsize=(4,3),\\\n",
    "    axes_labels=([\"t\",\"x(t)\"]))\n",
    "    S2=plot(rect(t-T0,tauv),-10,10,figsize=(4,3))\n",
    "    S3=plot(rect(t+T0,tauv),-10,10,figsize=(4,3))\n",
    "    S4=text(\"$\\cdots$\",(-9,0.5))\n",
    "    S5=text(\"$\\cdots$\",(9,0.5))\n",
    "    show(S1+S2+S3+S4+S5)\n",
    "    show(\"Px_{time}=\",RR(Px_time).n(digits=5))"
   ]
  },
  {
   "cell_type": "markdown",
   "id": "2ff8c9bc",
   "metadata": {},
   "source": [
    "คำนวณหากําลังในสัญญาณ จากสัมประสิทธิ์ของอนุกรมฟูเรียร์ ด้วยคําสั่งใน Sage ต่อไปนี้"
   ]
  },
  {
   "cell_type": "code",
   "execution_count": 6,
   "id": "e2b66c2d",
   "metadata": {},
   "outputs": [
    {
     "data": {
      "application/vnd.jupyter.widget-view+json": {
       "model_id": "9334a201cef44ea69efbddab94239035",
       "version_major": 2,
       "version_minor": 0
      },
      "text/plain": [
       "Interactive function <function _ at 0x127a760e0> with 1 widget\n",
       "  tau: TransformIntSlider(value=1, description=…"
      ]
     },
     "metadata": {},
     "output_type": "display_data"
    }
   ],
   "source": [
    "# Power Content (Compute using Fourier series coefficient)\n",
    "def rect(t,tau):\n",
    "    rect_u=unit_step(t+tau/2)-unit_step(t-tau/2)\n",
    "    return rect_u\n",
    "\n",
    "def xn(n,T0,tau):\n",
    "    if n!=0:\n",
    "        xnv=(1/T0*integral(rect(t,tau)*e^(-i*n*2*pi*t/T0),t,-tau/2,tau/2)) \\\n",
    "        .simplify_full()\n",
    "    else:\n",
    "        xnv=tau/T0\n",
    "    return xnv\n",
    "\n",
    "# define function for numerical computing of the power content using Fourier series coefficients\n",
    "def power_coe(s,tauv):\n",
    "    sum = 0\n",
    "    for n in srange(-100,101):\n",
    "        if n!=0:\n",
    "            sum += (s(n))^2\n",
    "        else:\n",
    "            sum += (tauv/T0)^2\n",
    "    return sum\n",
    "\n",
    "# Main Power Content (Compute using Fourier series coefficient)\n",
    "n,T0,tau,t,nv,tauv=var(\"n,T0,tau,t,nv,tauv\")\n",
    "assume(tau>0, T0>tau/2)\n",
    "T0=6\n",
    "\n",
    "@interact\n",
    "def _(tau=slider(1,3,step_size=1)):\n",
    "    tauv=tau\n",
    "    P=[(m,xn(m,T0,tauv)) for m in srange(-15,16)]\n",
    "    s(n)=xn(n,T0,tauv)\n",
    "    Px_coe=power_coe(s,tauv)\n",
    "    show(points(P, rgbcolor=(0.2,0.6, 0.1), pointsize=30) \\\n",
    "    + plot(spline(P), -15, 15,figsize=(4,3),\\\n",
    "           axes_labels=([\"n\",\"xₙ\"]),linestyle=\"-.\"))\n",
    "    show(\"P_{xₙ}=\",RR(Px_coe).n(digits=5)) #RR mean real number"
   ]
  }
 ],
 "metadata": {
  "kernelspec": {
   "display_name": "SageMath 9.7",
   "language": "sage",
   "name": "sagemath-9.7"
  },
  "language_info": {
   "codemirror_mode": {
    "name": "ipython",
    "version": 3
   },
   "file_extension": ".py",
   "mimetype": "text/x-python",
   "name": "python",
   "nbconvert_exporter": "python",
   "pygments_lexer": "ipython3",
   "version": "3.10.5"
  }
 },
 "nbformat": 4,
 "nbformat_minor": 5
}
