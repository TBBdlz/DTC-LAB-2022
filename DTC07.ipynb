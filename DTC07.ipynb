{
 "cells": [
  {
   "cell_type": "markdown",
   "id": "23f9a462",
   "metadata": {},
   "source": [
    "# 4 การทดลอง"
   ]
  },
  {
   "cell_type": "code",
   "execution_count": 1,
   "id": "a98b4514",
   "metadata": {},
   "outputs": [
    {
     "data": {
      "text/plain": [
       "gngauss (generic function with 1 method)"
      ]
     },
     "execution_count": 1,
     "metadata": {},
     "output_type": "execute_result"
    }
   ],
   "source": [
    "# simulation of joint Gaussian random variable x1,x2\n",
    "# using transform of iid rvs. y1, y2 where\n",
    "# mean=0 variance=1\n",
    "function gngauss(m,sigma)\n",
    "A=rand()\n",
    "r=sqrt(2*sigma^2*log(1/(1-A)))\n",
    "theta=2*pi*rand()\n",
    "u=m+r*cos(theta)\n",
    "v=m+r*sin(theta)\n",
    "return (u,v)\n",
    "end"
   ]
  },
  {
   "cell_type": "code",
   "execution_count": 2,
   "id": "22585088",
   "metadata": {},
   "outputs": [],
   "source": [
    "using Plots\n",
    "pyplot()\n",
    "m_y=0\n",
    "sigma_y=1\n",
    "c=[1 1/2;1/2 1]\n",
    "c_sqrt=c^(1/2)\n",
    "samples=5600\n",
    "x1=zeros(samples)\n",
    "x2=zeros(samples)\n",
    "for i=1:samples\n",
    "    y1,y2=gngauss(m_y,sigma_y)\n",
    "    y=[y1 y2]\n",
    "    x=c_sqrt*y'\n",
    "    x1[i]=x[1]\n",
    "    x2[i]=x[2]\n",
    "end"
   ]
  },
  {
   "cell_type": "code",
   "execution_count": 4,
   "id": "da4f967a",
   "metadata": {},
   "outputs": [
    {
     "ename": "LoadError",
     "evalue": "syntax: invalid escape sequence",
     "output_type": "error",
     "traceback": [
      "syntax: invalid escape sequence",
      "",
      "Stacktrace:",
      " [1] top-level scope",
      "   @ In[4]:7",
      " [2] eval",
      "   @ ./boot.jl:368 [inlined]",
      " [3] include_string(mapexpr::typeof(REPL.softscope), mod::Module, code::String, filename::String)",
      "   @ Base ./loading.jl:1281"
     ]
    }
   ],
   "source": [
    "# plot normalize histogram of Gaussiab rv x1\n",
    "using Plots\n",
    "using LaTeXStrings\n",
    "plotly()\n",
    "h1=histogram(x1,normed=true,nbins=60)\n",
    "plot(h1,xlim=(-4,4),ylim=(0,0.5),legend=:none)\n",
    "plot!(title=\"normalized histogram of Gaussian R.V. x\\_1<tab>\",\n",
    "xlabel=\"x₁\",ylabel=\"Histogram of x₁\")"
   ]
  }
 ],
 "metadata": {
  "kernelspec": {
   "display_name": "Julia 1.8.0-rc1",
   "language": "julia",
   "name": "julia-1.8"
  },
  "language_info": {
   "file_extension": ".jl",
   "mimetype": "application/julia",
   "name": "julia",
   "version": "1.8.0"
  }
 },
 "nbformat": 4,
 "nbformat_minor": 5
}
