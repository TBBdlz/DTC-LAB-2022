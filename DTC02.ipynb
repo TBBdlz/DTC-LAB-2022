{
 "cells": [
  {
   "cell_type": "code",
   "execution_count": 15,
   "id": "635f76cd",
   "metadata": {},
   "outputs": [
    {
     "name": "stdout",
     "output_type": "stream",
     "text": [
      "γ=1, β=2\n"
     ]
    }
   ],
   "source": [
    "using AbstractAlgebra\n",
    "R = GF(7)\n",
    "x0 = 42\n",
    "g = R(3)\n",
    "γ = g^x0\n",
    "β = g^(x0+2)\n",
    "println(\"γ=$γ, β=$β\")"
   ]
  },
  {
   "cell_type": "code",
   "execution_count": null,
   "id": "8f7266d9",
   "metadata": {},
   "outputs": [],
   "source": []
  }
 ],
 "metadata": {
  "kernelspec": {
   "display_name": "Julia 1.8.0-rc1",
   "language": "julia",
   "name": "julia-1.8"
  },
  "language_info": {
   "file_extension": ".jl",
   "mimetype": "application/julia",
   "name": "julia",
   "version": "1.8.0"
  }
 },
 "nbformat": 4,
 "nbformat_minor": 5
}
