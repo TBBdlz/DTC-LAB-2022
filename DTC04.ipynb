{
 "cells": [
  {
   "cell_type": "markdown",
   "id": "b984e2ae",
   "metadata": {},
   "source": [
    "# 4 การทดลอง\n",
    "## 4.1 การแปลงฟูเรียร์"
   ]
  },
  {
   "cell_type": "code",
   "execution_count": 1,
   "id": "52bb7d81",
   "metadata": {},
   "outputs": [],
   "source": [
    "# define rectangular function or mapping.called rect(t,tau)\n",
    "# u(.) is a unit step function\n",
    "# reset()\n",
    "def rect(t,tau):\n",
    "    rect_u=unit_step(t+tau/2)-unit_step(t-tau/2)\n",
    "    return rect_u"
   ]
  },
  {
   "cell_type": "code",
   "execution_count": 2,
   "id": "29233f76",
   "metadata": {},
   "outputs": [],
   "source": [
    "# define function for computing Fourier Transform\n",
    "# of x(t)\n",
    "def FT(x):\n",
    "    F1=laplace(x,t,s)\n",
    "    F2=(laplace(x,t,s)).conjugate() #due to x is even fn\n",
    "    return F1+F2"
   ]
  },
  {
   "cell_type": "code",
   "execution_count": 4,
   "id": "7ee32fe3",
   "metadata": {},
   "outputs": [
    {
     "data": {
      "application/vnd.jupyter.widget-view+json": {
       "model_id": "ede50dda99124855a6802b87204caf45",
       "version_major": 2,
       "version_minor": 0
      },
      "text/plain": [
       "Interactive function <function _ at 0x122a3a3b0> with 1 widget\n",
       "  tau: TransformIntSlider(value=1, description=…"
      ]
     },
     "metadata": {},
     "output_type": "display_data"
    }
   ],
   "source": [
    "# Fourier transform of rectan pulse, x(t/tau)\n",
    "# when vary pulse width (tau)\n",
    "t,f,s=var(\"t,f,s\")\n",
    "assume(f>0)\n",
    "@interact\n",
    "def _(tau=slider(1,3,1)):\n",
    "    ta=tau\n",
    "    x(t)=rect(t,ta)\n",
    "    xm(t)=rect(-t,ta)\n",
    "    F(s)=FT(x)\n",
    "    FTr(f)=F(i*2*pi*f).simplify_full()\n",
    "    FTr(f)=(FTr(f).numerator()).trig_reduce()/FTr(f).denominator()\n",
    "    show(\"x(t)=Π(t/\",tau,\"), X(f)=\",FTr(f))\n",
    "    P1=plot(x(t),t,-5,5,figsize=(7,3))\n",
    "    P2=text(\"x(t)\",(0.5,1.1))\n",
    "    P3=text(\"t\",(5,-0.1))\n",
    "    P123=P1+P2+P3\n",
    "    P4=plot(FTr(f),f,-15,15,figsize=(7,3),ymax=3.5)\n",
    "    P5=text(\"X(f)\",(1.2,3.5))\n",
    "    P6=text(\"f\",(15,-0.5))\n",
    "    P456=P4+P5+P6\n",
    "    show(P123)\n",
    "    show(P456)"
   ]
  },
  {
   "cell_type": "markdown",
   "id": "dedeb17f",
   "metadata": {},
   "source": [
    "## 4.2 การกล้ำสัญญาณและสเปกตรัม"
   ]
  },
  {
   "cell_type": "code",
   "execution_count": 5,
   "id": "ea31af9d",
   "metadata": {},
   "outputs": [],
   "source": [
    "# study modulation\n",
    "# These functions are referred to as\n",
    "# rect. pulse gen, Fourier Transform, and modulation\n",
    "# reset()\n",
    "# define rectangular function or mapping.called rect(t,tau)\n",
    "# u(.) is a unit step function\n",
    "def rect(t,tau):\n",
    "    rect_u=unit_step(t+tau/2)-unit_step(t-tau/2)\n",
    "    return rect_u\n",
    "\n",
    "# define function for computing Fourier Transform\n",
    "# of x(t)\n",
    "def FT(x):\n",
    "    F1=laplace(x,t,s)\n",
    "    F2=(laplace(x,t,s)).conjugate() #due to x is even fn\n",
    "    return F1+F2\n",
    "\n",
    "# define modulation function\n",
    "def modu(x,f0):\n",
    "    u(t)=x(t)*cos(2*pi*f0*t)\n",
    "    return u"
   ]
  },
  {
   "cell_type": "code",
   "execution_count": 6,
   "id": "52468557",
   "metadata": {},
   "outputs": [
    {
     "data": {
      "application/vnd.jupyter.widget-view+json": {
       "model_id": "ef8bcda646c140749586120ffdecd037",
       "version_major": 2,
       "version_minor": 0
      },
      "text/plain": [
       "Interactive function <function _ at 0x122d141f0> with 1 widget\n",
       "  f0: TransformIntSlider(value=5, description='…"
      ]
     },
     "metadata": {},
     "output_type": "display_data"
    }
   ],
   "source": [
    "# Modulation Main\n",
    "t,f,s=var(\"t,f,s\")\n",
    "tau=1\n",
    "assume(f>0)\n",
    "@interact\n",
    "def _(f0=slider(5,15,5)):\n",
    "    ff=f0\n",
    "    x(t)=rect(t,tau)\n",
    "    M1=plot(x(t),t,-5,5,figsize=(7,3))\n",
    "    M2=text(\"x(t)\",(0.5,1.1))\n",
    "    M3=text(\"t\",(5,-0.1))\n",
    "    M123=M1+M2+M3\n",
    "    print(\"lowpass signal, x(t) and its spectrum, X(f)\")\n",
    "    show(M123)\n",
    "    F(s)=FT(x)\n",
    "    FTr(f)=F(i*2*pi*f).simplify_full()\n",
    "    P1=plot(FTr(f),f,-20,20,figsize=(7,3))\n",
    "    P2=text(\"X(f)\",(1.5,1.1))\n",
    "    P3=text(\"f\",(20,-0.2))\n",
    "    P123=P1+P2+P3\n",
    "    show(P123)\n",
    "    # After Modulation\n",
    "    u(t)=modu(x,ff)\n",
    "    show(\"u(t)=\",u(t))\n",
    "    P4=plot(u(t),t,-5,5,figsize=(7,3))\n",
    "    P5=text(\"u(t)\",(0.5,1.1))\n",
    "    P6=text(\"t\",(5,-0.1))\n",
    "    P456=P4+P5+P6\n",
    "    print(\"bandpass signal, u(t) and its spectrum, U(f)\")\n",
    "    show(P456)\n",
    "    F(s)=FT(u)\n",
    "    FTr(f)=F(i*2*pi*f).simplify_full()\n",
    "    P7=plot(FTr(f),f,-20,20,figsize=(7,3))\n",
    "    P8=text(\"U(f)\",(1.4,1.1))\n",
    "    P9=text(\"f\",(20,-0.2))\n",
    "    P789=P7+P8+P9\n",
    "    show(P789)"
   ]
  },
  {
   "cell_type": "markdown",
   "id": "d923581e",
   "metadata": {},
   "source": [
    "## 4.3 พลังงานในสัญญาณ\n",
    "### 16 คำนวณหาพลังงานในสัญญาณ จากโดเมนเวลา และจากสเปกตรัม ด้วยคําสั่งใน Sage ต่อไปนี้"
   ]
  },
  {
   "cell_type": "code",
   "execution_count": 9,
   "id": "738be72e",
   "metadata": {},
   "outputs": [
    {
     "data": {
      "application/vnd.jupyter.widget-view+json": {
       "model_id": "fa79587317504201abeeaa12d1aa2ef2",
       "version_major": 2,
       "version_minor": 0
      },
      "text/plain": [
       "Interactive function <function _ at 0x122e3eb90> with 1 widget\n",
       "  tau: TransformIntSlider(value=1, description=…"
      ]
     },
     "metadata": {},
     "output_type": "display_data"
    }
   ],
   "source": [
    "# Compute energy of signal x(t)\n",
    "# reset()\n",
    "# define rectangular function or mapping.called rect(t,tau)\n",
    "# u(.) is a unit step function\n",
    "def rect(t,tau):\n",
    "    rect_u=unit_step(t+tau/2)-unit_step(t-tau/2)\n",
    "    return rect_u\n",
    "\n",
    "# define rectangular function or mapping.called rect(t,tau)\n",
    "# u(.) is a unit step function\n",
    "def rect2(t,tau):\n",
    "    rect_u2=heaviside(t+tau/2)-heaviside(t-tau/2)\n",
    "    return rect_u2\n",
    "\n",
    "# define function for computing Fourier Transform\n",
    "# of x(t)\n",
    "def FT(x):\n",
    "    F1=laplace(x(t),t,s)\n",
    "    F2=(laplace(x,t,s)).conjugate() #due to x is even fn\n",
    "    return F1+F2\n",
    "\n",
    "# define modulation function\n",
    "def modu(x,f0):\n",
    "    u(t)=x(t)*cos(2*pi*f0*t)\n",
    "    return u\n",
    "\n",
    "# define energy of signal\n",
    "def ener_t(x):\n",
    "    en=integral(abs(x)^2,t,-oo,oo)\n",
    "    return en\n",
    "\n",
    "# define energy of spectrum\n",
    "def ener_f(FTr):\n",
    "    en=integral(abs(FTr(f))^2,f,-oo,oo)\n",
    "    return en\n",
    "\n",
    "#main compute energy\n",
    "t,f,s=var(\"t,f,s\")\n",
    "assume(f>0)\n",
    "@interact\n",
    "def _(tau=slider(1,3,1)):\n",
    "    ta=tau\n",
    "    x(t)=rect2(t,ta)\n",
    "    M1=plot(x(t),t,-5,5,figsize=(7,3))\n",
    "    M2=text(\"x(t)\",(0.5,1.1))\n",
    "    M3=text(\"t\",(5,-0.1))\n",
    "    M123=M1+M2+M3\n",
    "    show(M123)\n",
    "    en=ener_t(x)\n",
    "    # compute energy from signal\n",
    "    show(\"Energy from signal, Eₓ = \",en)\n",
    "    x(t)=rect(t,ta)\n",
    "    F(s)=FT(x)\n",
    "    FTr(f)=F(i*2*pi*f).simplify_full()\n",
    "    P1=plot(FTr(f),f,-20,20,figsize=(7,3))\n",
    "    P2=text(\"X(f)\",(1.5,1.1))\n",
    "    P3=text(\"f\",(20,-0.3))\n",
    "    P123=P1+P2+P3\n",
    "    # compute energy from spectrum\n",
    "    en=ener_f(FTr)\n",
    "    show(P123)\n",
    "    show(\"Energy from spectrum, Eₓ = \",en)"
   ]
  }
 ],
 "metadata": {
  "kernelspec": {
   "display_name": "SageMath 9.7",
   "language": "sage",
   "name": "sagemath-9.7"
  },
  "language_info": {
   "codemirror_mode": {
    "name": "ipython",
    "version": 3
   },
   "file_extension": ".py",
   "mimetype": "text/x-python",
   "name": "python",
   "nbconvert_exporter": "python",
   "pygments_lexer": "ipython3",
   "version": "3.10.5"
  }
 },
 "nbformat": 4,
 "nbformat_minor": 5
}
